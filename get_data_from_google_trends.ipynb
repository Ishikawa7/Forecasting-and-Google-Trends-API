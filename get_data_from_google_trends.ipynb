{
 "cells": [
  {
   "cell_type": "code",
   "execution_count": 1,
   "metadata": {},
   "outputs": [],
   "source": [
    "# import libraries\n",
    "import pandas as pd\n",
    "from pytrends.request import TrendReq"
   ]
  },
  {
   "cell_type": "code",
   "execution_count": 2,
   "metadata": {},
   "outputs": [],
   "source": [
    "pytrends = TrendReq(hl='it-IT', tz=15)"
   ]
  },
  {
   "cell_type": "code",
   "execution_count": 3,
   "metadata": {},
   "outputs": [],
   "source": [
    "key_words = [\n",
    "    \"Vacanze\",\n",
    "    \"Viaggi\",\n",
    "    #\"Gita\",\n",
    "    #\"Google Maps\",\n",
    "    #\"Traffico\",\n",
    "    #\"Traffico Milano\",\n",
    "    #\"Mare\",\n",
    "    #\"Montagna\",\n",
    "    #\"Lago Garda\",\n",
    "    #\"Lago Como\",\n",
    "    #\"Lago Iseo\",\n",
    "    #\"Lago Lugano\",\n",
    "    #\"Lago Maggiore\",\n",
    "    #\"Lago Orta\",\n",
    "    #\"Gardaland\",\n",
    "    #\"Verona\",\n",
    "    #\"Venezia\",\n",
    "    #\"Svizzera\",\n",
    "    #\"Austria\",\n",
    "    #\"Trentino-South Tyrol\",\n",
    "    #\"Liguria\",\n",
    "    #\"Riviera Romagnola\",\n",
    "    #\"Agrate Brianza\",\n",
    "    #\"Provincia Monza Brianza\",\n",
    "    #\"Santo Ambrogio\",\n",
    "    #\"Halloween\",\n",
    "    #\"Natale\",\n",
    "    #\"Pasqua\",\n",
    "    #\"Ferragosto\",\n",
    "    #\"Capodanno\",\n",
    "    #\"Fiera\",\n",
    "    #\"Sagra\",\n",
    "    #\"Manifestazione\",\n",
    "    #\"Festa\",\n",
    "    #\"Evento\",\n",
    "    #\"Carnevale venezia\",\n",
    "    #\"Eventi Monza\",\n",
    "    #\"Feste Monza\",\n",
    "    #\"Partita milan\",\n",
    "    #\"Partita inter\",\n",
    "    #\"Partita juventus\",\n",
    "    #\"champions league\",\n",
    "    #\"Partita calcio\",\n",
    "    #\"Formula 1\",\n",
    "    #\"Previsioni del tempo\",\n",
    "    #\"Pioggia\",\n",
    "    #\"Neve\",\n",
    "    #\"Meteo\",\n",
    "    #\"Meteo Agrate\",\n",
    "    #\"autostrada A4\",\n",
    "    #\"Acqua e farina agrate\",\n",
    "    #\"Gruppo ethos ristoranti\",\n",
    "    #\"Ristoranti Agrate\",\n",
    "    #\"Pizza\",\n",
    "    #\"Sushi\",\n",
    "    #\"Ristorante\"\n",
    "]"
   ]
  },
  {
   "cell_type": "code",
   "execution_count": 5,
   "metadata": {},
   "outputs": [
    {
     "ename": "ResponseError",
     "evalue": "The request failed: Google returned a response with code 429.",
     "output_type": "error",
     "traceback": [
      "\u001b[0;31m---------------------------------------------------------------------------\u001b[0m",
      "\u001b[0;31mResponseError\u001b[0m                             Traceback (most recent call last)",
      "\u001b[0;32m/tmp/ipykernel_13966/1863210535.py\u001b[0m in \u001b[0;36m<module>\u001b[0;34m\u001b[0m\n\u001b[1;32m      2\u001b[0m \u001b[0;32mfor\u001b[0m \u001b[0mkey_word\u001b[0m \u001b[0;32min\u001b[0m \u001b[0mkey_words\u001b[0m\u001b[0;34m:\u001b[0m\u001b[0;34m\u001b[0m\u001b[0;34m\u001b[0m\u001b[0m\n\u001b[1;32m      3\u001b[0m     \u001b[0mpytrends\u001b[0m\u001b[0;34m.\u001b[0m\u001b[0mbuild_payload\u001b[0m\u001b[0;34m(\u001b[0m\u001b[0;34m[\u001b[0m\u001b[0mkey_word\u001b[0m\u001b[0;34m]\u001b[0m\u001b[0;34m,\u001b[0m \u001b[0mcat\u001b[0m\u001b[0;34m=\u001b[0m\u001b[0;36m0\u001b[0m\u001b[0;34m,\u001b[0m \u001b[0mtimeframe\u001b[0m\u001b[0;34m=\u001b[0m\u001b[0;34m'today 5-y'\u001b[0m\u001b[0;34m,\u001b[0m \u001b[0mgeo\u001b[0m\u001b[0;34m=\u001b[0m\u001b[0;34m'IT'\u001b[0m\u001b[0;34m,\u001b[0m \u001b[0mgprop\u001b[0m\u001b[0;34m=\u001b[0m\u001b[0;34m''\u001b[0m\u001b[0;34m)\u001b[0m\u001b[0;34m\u001b[0m\u001b[0;34m\u001b[0m\u001b[0m\n\u001b[0;32m----> 4\u001b[0;31m     \u001b[0mdf\u001b[0m \u001b[0;34m=\u001b[0m \u001b[0mpytrends\u001b[0m\u001b[0;34m.\u001b[0m\u001b[0minterest_over_time\u001b[0m\u001b[0;34m(\u001b[0m\u001b[0;34m)\u001b[0m\u001b[0;34m\u001b[0m\u001b[0;34m\u001b[0m\u001b[0m\n\u001b[0m\u001b[1;32m      5\u001b[0m     \u001b[0mdf\u001b[0m\u001b[0;34m.\u001b[0m\u001b[0mto_csv\u001b[0m\u001b[0;34m(\u001b[0m\u001b[0;34m'data/'\u001b[0m \u001b[0;34m+\u001b[0m \u001b[0mkey_word\u001b[0m \u001b[0;34m+\u001b[0m \u001b[0;34m'.csv'\u001b[0m\u001b[0;34m)\u001b[0m\u001b[0;34m\u001b[0m\u001b[0;34m\u001b[0m\u001b[0m\n\u001b[1;32m      6\u001b[0m \u001b[0;34m\u001b[0m\u001b[0m\n",
      "\u001b[0;32m/usr/local/lib/python3.8/dist-packages/pytrends/request.py\u001b[0m in \u001b[0;36minterest_over_time\u001b[0;34m(self)\u001b[0m\n\u001b[1;32m    224\u001b[0m \u001b[0;34m\u001b[0m\u001b[0m\n\u001b[1;32m    225\u001b[0m         \u001b[0;31m# make the request and parse the returned json\u001b[0m\u001b[0;34m\u001b[0m\u001b[0;34m\u001b[0m\u001b[0;34m\u001b[0m\u001b[0m\n\u001b[0;32m--> 226\u001b[0;31m         req_json = self._get_data(\n\u001b[0m\u001b[1;32m    227\u001b[0m             \u001b[0murl\u001b[0m\u001b[0;34m=\u001b[0m\u001b[0mTrendReq\u001b[0m\u001b[0;34m.\u001b[0m\u001b[0mINTEREST_OVER_TIME_URL\u001b[0m\u001b[0;34m,\u001b[0m\u001b[0;34m\u001b[0m\u001b[0;34m\u001b[0m\u001b[0m\n\u001b[1;32m    228\u001b[0m             \u001b[0mmethod\u001b[0m\u001b[0;34m=\u001b[0m\u001b[0mTrendReq\u001b[0m\u001b[0;34m.\u001b[0m\u001b[0mGET_METHOD\u001b[0m\u001b[0;34m,\u001b[0m\u001b[0;34m\u001b[0m\u001b[0;34m\u001b[0m\u001b[0m\n",
      "\u001b[0;32m/usr/local/lib/python3.8/dist-packages/pytrends/request.py\u001b[0m in \u001b[0;36m_get_data\u001b[0;34m(self, url, method, trim_chars, **kwargs)\u001b[0m\n\u001b[1;32m    155\u001b[0m         \u001b[0;32melse\u001b[0m\u001b[0;34m:\u001b[0m\u001b[0;34m\u001b[0m\u001b[0;34m\u001b[0m\u001b[0m\n\u001b[1;32m    156\u001b[0m             \u001b[0;31m# error\u001b[0m\u001b[0;34m\u001b[0m\u001b[0;34m\u001b[0m\u001b[0;34m\u001b[0m\u001b[0m\n\u001b[0;32m--> 157\u001b[0;31m             raise exceptions.ResponseError(\n\u001b[0m\u001b[1;32m    158\u001b[0m                 \u001b[0;34m'The request failed: Google returned a '\u001b[0m\u001b[0;34m\u001b[0m\u001b[0;34m\u001b[0m\u001b[0m\n\u001b[1;32m    159\u001b[0m                 \u001b[0;34m'response with code {0}.'\u001b[0m\u001b[0;34m.\u001b[0m\u001b[0mformat\u001b[0m\u001b[0;34m(\u001b[0m\u001b[0mresponse\u001b[0m\u001b[0;34m.\u001b[0m\u001b[0mstatus_code\u001b[0m\u001b[0;34m)\u001b[0m\u001b[0;34m,\u001b[0m\u001b[0;34m\u001b[0m\u001b[0;34m\u001b[0m\u001b[0m\n",
      "\u001b[0;31mResponseError\u001b[0m: The request failed: Google returned a response with code 429."
     ]
    }
   ],
   "source": [
    "# get dayly data from google trends\n",
    "for key_word in key_words:\n",
    "    pytrends.build_payload(\n",
    "        kw_list = [key_word],\n",
    "        year_start=2020, \n",
    "        month_start=6, \n",
    "        day_start=1, \n",
    "        hour_start=0, \n",
    "        year_end=2022, \n",
    "        month_end=12, \n",
    "        day_end=1, \n",
    "        hour_end=0, \n",
    "        cat=0, \n",
    "        geo='IT-25',\n",
    "        gprop='', \n",
    "        sleep=0\n",
    "    )\n",
    "    df = pytrends.interest_over_time()\n",
    "    df.to_csv('data/' + key_word + '.csv')\n",
    "    "
   ]
  },
  {
   "cell_type": "code",
   "execution_count": null,
   "metadata": {},
   "outputs": [],
   "source": [
    "first = True\n",
    "for keyword in key_words:\n",
    "    print(keyword)\n",
    "    kw_list = [keyword]\n",
    "    df_key = pytrends.get_historical_interest(\n",
    "        kw_list, \n",
    "        year_start=2020, \n",
    "        month_start=6, \n",
    "        day_start=1, \n",
    "        hour_start=0, \n",
    "        year_end=2022, \n",
    "        month_end=12, \n",
    "        day_end=1, \n",
    "        hour_end=0, \n",
    "        cat=0, \n",
    "        geo='IT-25',\n",
    "        gprop='', \n",
    "        sleep=0)\n",
    "    df_key\n",
    "    if first:\n",
    "        df_tot = df_key\n",
    "        first = False\n",
    "    else:\n",
    "        df_tot = pd.concat([df_tot, df_key],axis=1)"
   ]
  },
  {
   "cell_type": "code",
   "execution_count": null,
   "metadata": {},
   "outputs": [],
   "source": [
    "df_tot.drop(columns=[\"isPartial\"],inplace=True)\n",
    "df_tot"
   ]
  },
  {
   "cell_type": "code",
   "execution_count": null,
   "metadata": {},
   "outputs": [],
   "source": [
    "kw_list = [\"bitcoin\"]"
   ]
  },
  {
   "cell_type": "code",
   "execution_count": null,
   "metadata": {},
   "outputs": [],
   "source": [
    "df2 = pytrends.interest_over_time(\n",
    "        kw_list, \n",
    "        year_start=2022, \n",
    "        month_start=11, \n",
    "        day_start=27, \n",
    "        hour_start=0, \n",
    "        year_end=2022, \n",
    "        month_end=11, \n",
    "        day_end=29, \n",
    "        hour_end=12, \n",
    "        cat=0, \n",
    "        geo='IT-25',\n",
    "        gprop='', \n",
    "        sleep=0)\n",
    "df2"
   ]
  }
 ],
 "metadata": {
  "kernelspec": {
   "display_name": "Python 3.8.10 64-bit",
   "language": "python",
   "name": "python3"
  },
  "language_info": {
   "codemirror_mode": {
    "name": "ipython",
    "version": 3
   },
   "file_extension": ".py",
   "mimetype": "text/x-python",
   "name": "python",
   "nbconvert_exporter": "python",
   "pygments_lexer": "ipython3",
   "version": "3.8.10"
  },
  "orig_nbformat": 4,
  "vscode": {
   "interpreter": {
    "hash": "916dbcbb3f70747c44a77c7bcd40155683ae19c65e1c03b4aa3499c5328201f1"
   }
  }
 },
 "nbformat": 4,
 "nbformat_minor": 2
}
